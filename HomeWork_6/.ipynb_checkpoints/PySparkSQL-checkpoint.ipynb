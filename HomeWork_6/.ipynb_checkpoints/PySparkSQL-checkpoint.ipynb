{
 "cells": [
  {
   "cell_type": "code",
   "execution_count": 1,
   "metadata": {
    "ExecuteTime": {
     "end_time": "2021-11-09T19:56:06.394458Z",
     "start_time": "2021-11-09T19:56:06.208610Z"
    }
   },
   "outputs": [],
   "source": [
    "from pyspark.sql import SparkSession\n",
    "from pyspark.sql import *\n"
   ]
  },
  {
   "cell_type": "code",
   "execution_count": 30,
   "metadata": {
    "ExecuteTime": {
     "end_time": "2021-11-09T20:06:37.542295Z",
     "start_time": "2021-11-09T20:06:37.502111Z"
    }
   },
   "outputs": [],
   "source": [
    "from pyspark.sql.functions import *"
   ]
  },
  {
   "cell_type": "code",
   "execution_count": 2,
   "metadata": {
    "ExecuteTime": {
     "end_time": "2021-11-09T19:56:12.898219Z",
     "start_time": "2021-11-09T19:56:06.893590Z"
    }
   },
   "outputs": [],
   "source": [
    "spark = SparkSession.builder\\\n",
    "    .config('spark.driver.extraClassPath', '/home/pikarchu/drivers/postgresql-42.3.1.jar')\\\n",
    "    .master('local')\\\n",
    "    .appName('homework_6')\\\n",
    "    .getOrCreate()"
   ]
  },
  {
   "cell_type": "code",
   "execution_count": 3,
   "metadata": {
    "ExecuteTime": {
     "end_time": "2021-11-09T19:56:13.947982Z",
     "start_time": "2021-11-09T19:56:13.933193Z"
    }
   },
   "outputs": [
    {
     "data": {
      "text/html": [
       "\n",
       "            <div>\n",
       "                <p><b>SparkSession - in-memory</b></p>\n",
       "                \n",
       "        <div>\n",
       "            <p><b>SparkContext</b></p>\n",
       "\n",
       "            <p><a href=\"http://192.168.56.1:4040\">Spark UI</a></p>\n",
       "\n",
       "            <dl>\n",
       "              <dt>Version</dt>\n",
       "                <dd><code>v3.2.0</code></dd>\n",
       "              <dt>Master</dt>\n",
       "                <dd><code>local</code></dd>\n",
       "              <dt>AppName</dt>\n",
       "                <dd><code>homework_lesson_13</code></dd>\n",
       "            </dl>\n",
       "        </div>\n",
       "        \n",
       "            </div>\n",
       "        "
      ],
      "text/plain": [
       "<pyspark.sql.session.SparkSession at 0x7f5470090990>"
      ]
     },
     "execution_count": 3,
     "metadata": {},
     "output_type": "execute_result"
    }
   ],
   "source": [
    "spark"
   ]
  },
  {
   "cell_type": "code",
   "execution_count": 4,
   "metadata": {
    "ExecuteTime": {
     "end_time": "2021-11-09T19:56:14.824095Z",
     "start_time": "2021-11-09T19:56:14.821650Z"
    }
   },
   "outputs": [],
   "source": [
    "pg_url = 'jdbc:postgresql://192.168.0.110:5432/postgres'\n",
    "pg_creds = {'user' : 'pguser', 'password' : 'secret'}"
   ]
  },
  {
   "cell_type": "code",
   "execution_count": 7,
   "metadata": {
    "ExecuteTime": {
     "end_time": "2021-11-09T19:58:18.364475Z",
     "start_time": "2021-11-09T19:58:18.269599Z"
    }
   },
   "outputs": [],
   "source": [
    "#First tasks\n",
    "tb_film_category = spark.read.jdbc(pg_url, table='film_category', properties=pg_creds)\n",
    "tb_category = spark.read.jdbc(pg_url, table='category', properties=pg_creds)"
   ]
  },
  {
   "cell_type": "code",
   "execution_count": 9,
   "metadata": {
    "ExecuteTime": {
     "end_time": "2021-11-09T19:59:17.983702Z",
     "start_time": "2021-11-09T19:59:17.981635Z"
    }
   },
   "outputs": [],
   "source": [
    "#tb_category.head(5)"
   ]
  },
  {
   "cell_type": "code",
   "execution_count": 31,
   "metadata": {
    "ExecuteTime": {
     "end_time": "2021-11-09T20:06:57.630962Z",
     "start_time": "2021-11-09T20:06:57.605975Z"
    }
   },
   "outputs": [],
   "source": [
    "first_result = tb_film_category.join(tb_category , tb_film_category.category_id == tb_category.category_id, 'inner')\\\n",
    "    .groupby(tb_category.name)\\\n",
    "    .count()\\\n",
    "    .orderBy(desc('count'))"
   ]
  },
  {
   "cell_type": "code",
   "execution_count": 32,
   "metadata": {
    "ExecuteTime": {
     "end_time": "2021-11-09T20:06:58.848212Z",
     "start_time": "2021-11-09T20:06:58.118146Z"
    }
   },
   "outputs": [
    {
     "name": "stdout",
     "output_type": "stream",
     "text": [
      "+-----------+-----+\n",
      "|       name|count|\n",
      "+-----------+-----+\n",
      "|     Sports|   74|\n",
      "|    Foreign|   73|\n",
      "|     Family|   69|\n",
      "|Documentary|   68|\n",
      "|  Animation|   66|\n",
      "|     Action|   64|\n",
      "|        New|   63|\n",
      "|      Drama|   62|\n",
      "|      Games|   61|\n",
      "|     Sci-Fi|   61|\n",
      "|   Children|   60|\n",
      "|     Comedy|   58|\n",
      "|     Travel|   57|\n",
      "|   Classics|   57|\n",
      "|     Horror|   56|\n",
      "|      Music|   51|\n",
      "+-----------+-----+\n",
      "\n"
     ]
    }
   ],
   "source": [
    "first_result.show()"
   ]
  },
  {
   "cell_type": "code",
   "execution_count": 33,
   "metadata": {
    "ExecuteTime": {
     "end_time": "2021-11-09T20:08:28.777429Z",
     "start_time": "2021-11-09T20:08:28.775088Z"
    }
   },
   "outputs": [],
   "source": [
    "#Second Query"
   ]
  },
  {
   "cell_type": "code",
   "execution_count": 34,
   "metadata": {
    "ExecuteTime": {
     "end_time": "2021-11-09T20:09:51.040209Z",
     "start_time": "2021-11-09T20:09:50.886961Z"
    }
   },
   "outputs": [],
   "source": [
    "tb_actor = spark.read.jdbc(pg_url, table='actor', properties=pg_creds)\n",
    "tb_film_actor = spark.read.jdbc(pg_url, table='film_actor', properties=pg_creds)\n",
    "tb_inventory = spark.read.jdbc(pg_url, table='inventory', properties=pg_creds)\n",
    "tb_rental = spark.read.jdbc(pg_url, table='rental', properties=pg_creds)"
   ]
  },
  {
   "cell_type": "code",
   "execution_count": 38,
   "metadata": {
    "ExecuteTime": {
     "end_time": "2021-11-09T20:18:04.056848Z",
     "start_time": "2021-11-09T20:18:03.999248Z"
    }
   },
   "outputs": [],
   "source": [
    "second_result = tb_actor.join(tb_film_actor, tb_film_actor.actor_id == tb_actor.actor_id , 'inner')\\\n",
    "        .join(tb_inventory, tb_inventory.film_id == tb_film_actor.film_id , 'inner')\\\n",
    "        .join(tb_rental, tb_rental.inventory_id ==    tb_inventory.inventory_id   , 'inner')\\\n",
    "        .select(concat(col('first_name'), lit(' '), col('last_name')).alias('Actor_Name'))\\\n",
    "        .groupby('Actor_Name')\\\n",
    "        .count()\\\n",
    "        .orderBy(desc('count'))"
   ]
  },
  {
   "cell_type": "code",
   "execution_count": 40,
   "metadata": {
    "ExecuteTime": {
     "end_time": "2021-11-09T20:19:10.168890Z",
     "start_time": "2021-11-09T20:19:02.262924Z"
    }
   },
   "outputs": [
    {
     "name": "stdout",
     "output_type": "stream",
     "text": [
      "+------------------+-----+\n",
      "|        Actor_Name|count|\n",
      "+------------------+-----+\n",
      "|       SUSAN DAVIS|  825|\n",
      "|    GINA DEGENERES|  753|\n",
      "|    MATTHEW CARREY|  678|\n",
      "|       MARY KEITEL|  674|\n",
      "|ANGELA WITHERSPOON|  654|\n",
      "|       WALTER TORN|  640|\n",
      "|       HENRY BERRY|  612|\n",
      "|       JAYNE NOLTE|  611|\n",
      "|        VAL BOLGER|  605|\n",
      "|     SANDRA KILMER|  604|\n",
      "+------------------+-----+\n",
      "only showing top 10 rows\n",
      "\n"
     ]
    }
   ],
   "source": [
    "second_result.show(10)"
   ]
  },
  {
   "cell_type": "code",
   "execution_count": 60,
   "metadata": {
    "ExecuteTime": {
     "end_time": "2021-11-09T20:37:18.898166Z",
     "start_time": "2021-11-09T20:37:18.896119Z"
    }
   },
   "outputs": [],
   "source": [
    "#Third Query"
   ]
  },
  {
   "cell_type": "code",
   "execution_count": 41,
   "metadata": {
    "ExecuteTime": {
     "end_time": "2021-11-09T20:22:37.056668Z",
     "start_time": "2021-11-09T20:22:36.983689Z"
    }
   },
   "outputs": [],
   "source": [
    "tb_payment =spark.read.jdbc(pg_url, table='payment', properties=pg_creds)"
   ]
  },
  {
   "cell_type": "code",
   "execution_count": 56,
   "metadata": {
    "ExecuteTime": {
     "end_time": "2021-11-09T20:35:01.383389Z",
     "start_time": "2021-11-09T20:35:01.343827Z"
    }
   },
   "outputs": [],
   "source": [
    "third_result= tb_category.join(tb_film_category,tb_film_category.category_id == tb_category.category_id , 'inner' )\\\n",
    "        .join(tb_inventory,tb_inventory.film_id  == tb_film_category.film_id  , 'inner' )\\\n",
    "        .join(tb_rental,tb_rental.inventory_id  == tb_inventory.inventory_id  , 'inner' )\\\n",
    "        .join(tb_payment,tb_payment.rental_id   == tb_rental.rental_id   , 'inner' )\\\n",
    "        .groupby(tb_category.name)\\\n",
    "        .agg(sum(tb_payment.amount))\\\n",
    "        .orderBy(desc('sum(amount)'))\n"
   ]
  },
  {
   "cell_type": "code",
   "execution_count": 59,
   "metadata": {
    "ExecuteTime": {
     "end_time": "2021-11-09T20:36:01.642032Z",
     "start_time": "2021-11-09T20:35:55.079637Z"
    }
   },
   "outputs": [
    {
     "name": "stdout",
     "output_type": "stream",
     "text": [
      "+------+-----------+\n",
      "|  name|sum(amount)|\n",
      "+------+-----------+\n",
      "|Sports|    5314.21|\n",
      "+------+-----------+\n",
      "only showing top 1 row\n",
      "\n"
     ]
    }
   ],
   "source": [
    "third_result.show(1)"
   ]
  },
  {
   "cell_type": "code",
   "execution_count": 61,
   "metadata": {
    "ExecuteTime": {
     "end_time": "2021-11-09T20:37:29.626008Z",
     "start_time": "2021-11-09T20:37:29.623936Z"
    }
   },
   "outputs": [],
   "source": [
    "#Fourth Query"
   ]
  },
  {
   "cell_type": "code",
   "execution_count": 62,
   "metadata": {
    "ExecuteTime": {
     "end_time": "2021-11-09T20:38:40.731013Z",
     "start_time": "2021-11-09T20:38:40.672184Z"
    }
   },
   "outputs": [],
   "source": [
    "tb_film = spark.read.jdbc(pg_url, table='film', properties=pg_creds)"
   ]
  },
  {
   "cell_type": "code",
   "execution_count": 71,
   "metadata": {
    "ExecuteTime": {
     "end_time": "2021-11-09T20:42:44.656609Z",
     "start_time": "2021-11-09T20:42:44.648197Z"
    }
   },
   "outputs": [],
   "source": [
    "fourth_query = tb_film.join(tb_inventory, tb_inventory.film_id == tb_film.film_id, 'left_anti')"
   ]
  },
  {
   "cell_type": "code",
   "execution_count": 73,
   "metadata": {
    "ExecuteTime": {
     "end_time": "2021-11-09T20:42:56.256159Z",
     "start_time": "2021-11-09T20:42:52.784413Z"
    }
   },
   "outputs": [
    {
     "name": "stdout",
     "output_type": "stream",
     "text": [
      "+--------------------+\n",
      "|               title|\n",
      "+--------------------+\n",
      "|      CHOCOLATE DUCK|\n",
      "|       BUTCH PANTHER|\n",
      "|        VOLUME HOUSE|\n",
      "|      ORDER BETRAYED|\n",
      "|        TADPOLE PARK|\n",
      "|    KILL BROTHERHOOD|\n",
      "|FRANKENSTEIN STRA...|\n",
      "|    CROSSING DIVORCE|\n",
      "|    SUICIDES SILENCE|\n",
      "|       CATCH AMISTAD|\n",
      "|     PERDITION FARGO|\n",
      "|       FLOATS GARDEN|\n",
      "|           GUMP DATE|\n",
      "|        WALLS ARTIST|\n",
      "|  GLADIATOR WESTWARD|\n",
      "|         HOCUS FRIDA|\n",
      "|ARSENIC INDEPENDENCE|\n",
      "|         MUPPET MILE|\n",
      "|   FIREHOUSE VIETNAM|\n",
      "|       ROOF CHAMPION|\n",
      "+--------------------+\n",
      "only showing top 20 rows\n",
      "\n"
     ]
    }
   ],
   "source": [
    "fourth_query.select('title').show()"
   ]
  },
  {
   "cell_type": "code",
   "execution_count": 72,
   "metadata": {
    "ExecuteTime": {
     "end_time": "2021-11-09T20:42:49.974129Z",
     "start_time": "2021-11-09T20:42:46.536379Z"
    }
   },
   "outputs": [
    {
     "data": {
      "text/plain": [
       "42"
      ]
     },
     "execution_count": 72,
     "metadata": {},
     "output_type": "execute_result"
    }
   ],
   "source": [
    "fourth_query.count()"
   ]
  },
  {
   "cell_type": "code",
   "execution_count": 74,
   "metadata": {
    "ExecuteTime": {
     "end_time": "2021-11-09T20:43:24.642391Z",
     "start_time": "2021-11-09T20:43:24.640181Z"
    }
   },
   "outputs": [],
   "source": [
    "#fifth Query"
   ]
  },
  {
   "cell_type": "code",
   "execution_count": 88,
   "metadata": {
    "ExecuteTime": {
     "end_time": "2021-11-09T20:59:38.372144Z",
     "start_time": "2021-11-09T20:59:38.361469Z"
    }
   },
   "outputs": [],
   "source": [
    "windowSpec  = Window.partitionBy().orderBy(desc(\"count\"))"
   ]
  },
  {
   "cell_type": "code",
   "execution_count": 91,
   "metadata": {
    "ExecuteTime": {
     "end_time": "2021-11-09T20:59:52.827365Z",
     "start_time": "2021-11-09T20:59:52.745226Z"
    }
   },
   "outputs": [],
   "source": [
    "fifth_query = tb_actor.join(tb_film_actor, tb_film_actor.actor_id == tb_actor.actor_id, 'inner')\\\n",
    ".join(tb_film_category, tb_film_category.film_id==tb_film_actor.film_id , 'inner')\\\n",
    ".join(tb_category, [tb_category.category_id ==tb_film_category.category_id , tb_category.name == 'Children'] , 'inner')\\\n",
    ".select(concat(col('first_name'), lit(' '), col('last_name')).alias('Actor_Name'))\\\n",
    ".groupby('Actor_Name')\\\n",
    ".count()\\\n",
    ".withColumn(\"rank\",rank().over(windowSpec)) \\\n",
    ".where(col('rank') <= 3)\n",
    "\n",
    "\n"
   ]
  },
  {
   "cell_type": "code",
   "execution_count": 92,
   "metadata": {
    "ExecuteTime": {
     "end_time": "2021-11-09T20:59:59.535937Z",
     "start_time": "2021-11-09T20:59:53.817623Z"
    }
   },
   "outputs": [
    {
     "name": "stdout",
     "output_type": "stream",
     "text": [
      "+-------------+-----+----+\n",
      "|   Actor_Name|count|rank|\n",
      "+-------------+-----+----+\n",
      "| HELEN VOIGHT|    7|   1|\n",
      "|  SUSAN DAVIS|    6|   2|\n",
      "|   MARY TANDY|    5|   3|\n",
      "|   RALPH CRUZ|    5|   3|\n",
      "|  WHOOPI HURT|    5|   3|\n",
      "|KEVIN GARLAND|    5|   3|\n",
      "+-------------+-----+----+\n",
      "\n"
     ]
    }
   ],
   "source": [
    "fifth_query.show()"
   ]
  },
  {
   "cell_type": "code",
   "execution_count": 93,
   "metadata": {
    "ExecuteTime": {
     "end_time": "2021-11-09T21:00:37.371434Z",
     "start_time": "2021-11-09T21:00:37.369393Z"
    }
   },
   "outputs": [],
   "source": [
    "#Sixth Query"
   ]
  },
  {
   "cell_type": "code",
   "execution_count": 96,
   "metadata": {
    "ExecuteTime": {
     "end_time": "2021-11-09T21:01:34.898198Z",
     "start_time": "2021-11-09T21:01:34.809653Z"
    }
   },
   "outputs": [],
   "source": [
    "tb_customer = spark.read.jdbc(pg_url, table='customer', properties=pg_creds)\n",
    "tb_address = spark.read.jdbc(pg_url, table='address', properties=pg_creds)\n",
    "tb_city = spark.read.jdbc(pg_url, table='city', properties=pg_creds)"
   ]
  },
  {
   "cell_type": "code",
   "execution_count": 104,
   "metadata": {
    "ExecuteTime": {
     "end_time": "2021-11-09T21:11:44.754871Z",
     "start_time": "2021-11-09T21:11:44.690297Z"
    }
   },
   "outputs": [],
   "source": [
    "Sixth_query = tb_city.join(tb_address, tb_address.city_id == tb_city.city_id, 'inner')\\\n",
    "    .join(tb_customer, tb_customer.address_id ==tb_address.address_id, 'inner')\\\n",
    "    .withColumn(\"not active\", when(tb_customer.active == 1, 0).otherwise(1))\\\n",
    "    .groupby('city')\\\n",
    "    .agg({'active':'sum', 'not active':'sum'})\\\n",
    "    .sort(desc('sum(not active)'))\n"
   ]
  },
  {
   "cell_type": "code",
   "execution_count": 105,
   "metadata": {
    "ExecuteTime": {
     "end_time": "2021-11-09T21:11:52.572790Z",
     "start_time": "2021-11-09T21:11:45.482181Z"
    }
   },
   "outputs": [
    {
     "name": "stdout",
     "output_type": "stream",
     "text": [
      "+------------------+-----------+---------------+\n",
      "|              city|sum(active)|sum(not active)|\n",
      "+------------------+-----------+---------------+\n",
      "|         Pingxiang|          0|              1|\n",
      "|       Szkesfehrvr|          0|              1|\n",
      "|  Charlotte Amalie|          0|              1|\n",
      "|         Najafabad|          0|              1|\n",
      "|           Wroclaw|          0|              1|\n",
      "|            Ktahya|          0|              1|\n",
      "|           Bat Yam|          0|              1|\n",
      "|   Southend-on-Sea|          0|              1|\n",
      "|            Amroha|          0|              1|\n",
      "|            Kamyin|          0|              1|\n",
      "|          Xiangfan|          0|              1|\n",
      "|            Daxian|          0|              1|\n",
      "|          Uluberia|          0|              1|\n",
      "|     Coatzacoalcos|          0|              1|\n",
      "|        Kumbakonam|          0|              1|\n",
      "|A Corua (La Corua)|          1|              0|\n",
      "|          Fengshan|          1|              0|\n",
      "|          Chisinau|          1|              0|\n",
      "|           Udaipur|          1|              0|\n",
      "|              Linz|          1|              0|\n",
      "+------------------+-----------+---------------+\n",
      "only showing top 20 rows\n",
      "\n"
     ]
    }
   ],
   "source": [
    "Sixth_query.show()"
   ]
  },
  {
   "cell_type": "code",
   "execution_count": 106,
   "metadata": {
    "ExecuteTime": {
     "end_time": "2021-11-09T21:13:54.404314Z",
     "start_time": "2021-11-09T21:13:54.402265Z"
    }
   },
   "outputs": [],
   "source": [
    "#seventh Query"
   ]
  },
  {
   "cell_type": "code",
   "execution_count": 129,
   "metadata": {
    "ExecuteTime": {
     "end_time": "2021-11-09T21:33:52.359380Z",
     "start_time": "2021-11-09T21:33:52.347408Z"
    }
   },
   "outputs": [],
   "source": [
    "windowSpec = Window.partitionBy([\"city\"]).orderBy(desc(\"sum(rental_duration)\"))"
   ]
  },
  {
   "cell_type": "code",
   "execution_count": 130,
   "metadata": {
    "ExecuteTime": {
     "end_time": "2021-11-09T21:33:53.169582Z",
     "start_time": "2021-11-09T21:33:53.043118Z"
    }
   },
   "outputs": [],
   "source": [
    "seventh_query_1 = tb_film_category.join(tb_category, tb_film_category.category_id == tb_category.category_id, 'inner')\\\n",
    "    .join(tb_film, tb_film_category.film_id ==tb_film.film_id, 'inner')\\\n",
    "    .join(tb_inventory, tb_film.film_id ==tb_inventory.film_id, 'inner')\\\n",
    "    .join(tb_rental, tb_inventory.inventory_id ==tb_rental.inventory_id, 'inner')\\\n",
    "    .join(tb_customer, tb_rental.customer_id ==tb_customer.customer_id, 'inner')\\\n",
    "    .join(tb_address, tb_customer.address_id ==tb_address.address_id, 'inner')\\\n",
    "    .join(tb_city, [tb_address.city_id ==tb_city.city_id, ], 'inner')\\\n",
    "    .where(lower(tb_city.city).like('a%'))\\\n",
    "    .groupby([tb_city.city,tb_category.name])\\\n",
    "    .agg({'rental_duration':'sum'})\\\n",
    "    .withColumn(\"rnm\", row_number().over(windowSpec))\\\n",
    "    .where(col('rnm') == 1)\n"
   ]
  },
  {
   "cell_type": "code",
   "execution_count": 134,
   "metadata": {
    "ExecuteTime": {
     "end_time": "2021-11-09T21:36:28.197632Z",
     "start_time": "2021-11-09T21:36:28.131754Z"
    }
   },
   "outputs": [],
   "source": [
    "seventh_query_2 = tb_film_category.join(tb_category, tb_film_category.category_id == tb_category.category_id, 'inner')\\\n",
    "    .join(tb_film, tb_film_category.film_id ==tb_film.film_id, 'inner')\\\n",
    "    .join(tb_inventory, tb_film.film_id ==tb_inventory.film_id, 'inner')\\\n",
    "    .join(tb_rental, tb_inventory.inventory_id ==tb_rental.inventory_id, 'inner')\\\n",
    "    .join(tb_customer, tb_rental.customer_id ==tb_customer.customer_id, 'inner')\\\n",
    "    .join(tb_address, tb_customer.address_id ==tb_address.address_id, 'inner')\\\n",
    "    .join(tb_city, [tb_address.city_id ==tb_city.city_id, ], 'inner')\\\n",
    "    .where((lower(tb_city.city).like('a%')) | (tb_city.city.like(\"%-%\")))\\\n",
    "    .groupby([tb_city.city,tb_category.name])\\\n",
    "    .agg({'rental_duration':'sum'})\\\n",
    "    .withColumn(\"rnm\", row_number().over(windowSpec))\\\n",
    "    .where(col('rnm') == 1)"
   ]
  },
  {
   "cell_type": "code",
   "execution_count": 135,
   "metadata": {
    "ExecuteTime": {
     "end_time": "2021-11-09T21:36:45.115555Z",
     "start_time": "2021-11-09T21:36:29.227878Z"
    }
   },
   "outputs": [
    {
     "name": "stdout",
     "output_type": "stream",
     "text": [
      "+--------------------+-----------+--------------------+---+\n",
      "|                city|       name|sum(rental_duration)|rnm|\n",
      "+--------------------+-----------+--------------------+---+\n",
      "|  A Corua (La Corua)|     Comedy|                  20|  1|\n",
      "|                Abha|     Sci-Fi|                  24|  1|\n",
      "|           Abu Dhabi|     Sci-Fi|                  21|  1|\n",
      "|                Acua|     Family|                  17|  1|\n",
      "|               Adana|Documentary|                  18|  1|\n",
      "|         Addis Abeba|  Animation|                  15|  1|\n",
      "|                Aden|        New|                  27|  1|\n",
      "|               Adoni|     Horror|                  17|  1|\n",
      "|          Ahmadnagar|     Sci-Fi|                  25|  1|\n",
      "|            Akishima|   Children|                  33|  1|\n",
      "|               Akron|     Horror|                  21|  1|\n",
      "|         Alessandria|  Animation|                  13|  1|\n",
      "|Allappuzha (Allep...|      Games|                  20|  1|\n",
      "|             Allende|     Travel|                  25|  1|\n",
      "|     Almirante Brown|Documentary|                  22|  1|\n",
      "|            Alvorada|     Sci-Fi|                  23|  1|\n",
      "|            Ambattur|      Drama|                  16|  1|\n",
      "|          Amersfoort|     Sports|                  19|  1|\n",
      "|              Amroha|     Family|                  25|  1|\n",
      "|      Angra dos Reis|     Action|                  17|  1|\n",
      "+--------------------+-----------+--------------------+---+\n",
      "only showing top 20 rows\n",
      "\n"
     ]
    }
   ],
   "source": [
    "seventh_query_1.show()"
   ]
  }
 ],
 "metadata": {
  "kernelspec": {
   "display_name": "Python 3",
   "language": "python",
   "name": "python3"
  },
  "language_info": {
   "codemirror_mode": {
    "name": "ipython",
    "version": 3
   },
   "file_extension": ".py",
   "mimetype": "text/x-python",
   "name": "python",
   "nbconvert_exporter": "python",
   "pygments_lexer": "ipython3",
   "version": "3.7.6"
  },
  "toc": {
   "base_numbering": 1,
   "nav_menu": {},
   "number_sections": true,
   "sideBar": true,
   "skip_h1_title": false,
   "title_cell": "Table of Contents",
   "title_sidebar": "Contents",
   "toc_cell": false,
   "toc_position": {},
   "toc_section_display": true,
   "toc_window_display": false
  }
 },
 "nbformat": 4,
 "nbformat_minor": 4
}
